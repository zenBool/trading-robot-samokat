{
 "cells": [
  {
   "cell_type": "code",
   "id": "initial_id",
   "metadata": {
    "collapsed": true,
    "ExecuteTime": {
     "end_time": "2025-01-24T07:13:25.811604Z",
     "start_time": "2025-01-24T07:13:25.094485Z"
    }
   },
   "source": [
    "import logging\n",
    "from binance.lib.utils import config_logging\n",
    "from binance.websocket.spot.websocket_api import SpotWebsocketAPIClient\n",
    "from binance.websocket.spot.websocket_stream import SpotWebsocketStreamClient\n",
    "from binance.spot import Spot as SpotAPIClient\n",
    "\n",
    "from common.logger import logger\n",
    "from trading.analize.utils.prepare_env import get_api_key\n",
    "\n",
    "# test = False\n",
    "test = True\n",
    "\n",
    "if test:\n",
    "    _api_stream_url = \"wss://ws-api.testnet.binance.vision/ws-api/v3\"\n",
    "    _stream_url = \"wss://stream.testnet.binance.vision\"\n",
    "    _base_url = \"https://testnet.binance.vision\"\n",
    "else:\n",
    "    _api_stream_url = \"wss://ws-api.binance.com/ws-api/v3\"\n",
    "    _stream_url = \"wss://stream.binance.com:9443\"\n",
    "    _base_url = \"https://api.binance.com\"\n",
    "\n",
    "api_key, api_secret = get_api_key(test=test)\n",
    "\n",
    "config_logging(logger, logger.DEBUG)"
   ],
   "outputs": [
    {
     "ename": "KeyError",
     "evalue": "'keys'",
     "output_type": "error",
     "traceback": [
      "\u001B[0;31m---------------------------------------------------------------------------\u001B[0m",
      "\u001B[0;31mKeyError\u001B[0m                                  Traceback (most recent call last)",
      "Cell \u001B[0;32mIn[1], line 22\u001B[0m\n\u001B[1;32m     19\u001B[0m     _stream_url \u001B[38;5;241m=\u001B[39m \u001B[38;5;124m\"\u001B[39m\u001B[38;5;124mwss://stream.binance.com:9443\u001B[39m\u001B[38;5;124m\"\u001B[39m\n\u001B[1;32m     20\u001B[0m     _base_url \u001B[38;5;241m=\u001B[39m \u001B[38;5;124m\"\u001B[39m\u001B[38;5;124mhttps://api.binance.com\u001B[39m\u001B[38;5;124m\"\u001B[39m\n\u001B[0;32m---> 22\u001B[0m api_key, api_secret \u001B[38;5;241m=\u001B[39m \u001B[43mget_api_key\u001B[49m\u001B[43m(\u001B[49m\u001B[43mtest\u001B[49m\u001B[38;5;241;43m=\u001B[39;49m\u001B[43mtest\u001B[49m\u001B[43m)\u001B[49m\n\u001B[1;32m     24\u001B[0m config_logging(logger, logger\u001B[38;5;241m.\u001B[39mDEBUG)\n",
      "File \u001B[0;32m~/PyProjects/BinanceAutotrader_fxcmss/trading-robot-samokat/trading_bot/trading/analize/utils/prepare_env.py:21\u001B[0m, in \u001B[0;36mget_api_key\u001B[0;34m(test)\u001B[0m\n\u001B[1;32m     17\u001B[0m config_file_path \u001B[38;5;241m=\u001B[39m os\u001B[38;5;241m.\u001B[39mpath\u001B[38;5;241m.\u001B[39mjoin(\n\u001B[1;32m     18\u001B[0m     pathlib\u001B[38;5;241m.\u001B[39mPath(\u001B[38;5;18m__file__\u001B[39m)\u001B[38;5;241m.\u001B[39mparent\u001B[38;5;241m.\u001B[39mresolve(), \u001B[38;5;124m\"\u001B[39m\u001B[38;5;124mconfig.ini\u001B[39m\u001B[38;5;124m\"\u001B[39m\n\u001B[1;32m     19\u001B[0m )\n\u001B[1;32m     20\u001B[0m config\u001B[38;5;241m.\u001B[39mread(config_file_path)\n\u001B[0;32m---> 21\u001B[0m \u001B[38;5;28;01mreturn\u001B[39;00m \u001B[43mconfig\u001B[49m\u001B[43m[\u001B[49m\u001B[38;5;124;43m\"\u001B[39;49m\u001B[38;5;124;43mkeys\u001B[39;49m\u001B[38;5;124;43m\"\u001B[39;49m\u001B[43m]\u001B[49m[key], config[\u001B[38;5;124m\"\u001B[39m\u001B[38;5;124mkeys\u001B[39m\u001B[38;5;124m\"\u001B[39m][secret]\n",
      "File \u001B[0;32m/usr/local/lib/python3.12/configparser.py:941\u001B[0m, in \u001B[0;36mRawConfigParser.__getitem__\u001B[0;34m(self, key)\u001B[0m\n\u001B[1;32m    939\u001B[0m \u001B[38;5;28;01mdef\u001B[39;00m \u001B[38;5;21m__getitem__\u001B[39m(\u001B[38;5;28mself\u001B[39m, key):\n\u001B[1;32m    940\u001B[0m     \u001B[38;5;28;01mif\u001B[39;00m key \u001B[38;5;241m!=\u001B[39m \u001B[38;5;28mself\u001B[39m\u001B[38;5;241m.\u001B[39mdefault_section \u001B[38;5;129;01mand\u001B[39;00m \u001B[38;5;129;01mnot\u001B[39;00m \u001B[38;5;28mself\u001B[39m\u001B[38;5;241m.\u001B[39mhas_section(key):\n\u001B[0;32m--> 941\u001B[0m         \u001B[38;5;28;01mraise\u001B[39;00m \u001B[38;5;167;01mKeyError\u001B[39;00m(key)\n\u001B[1;32m    942\u001B[0m     \u001B[38;5;28;01mreturn\u001B[39;00m \u001B[38;5;28mself\u001B[39m\u001B[38;5;241m.\u001B[39m_proxies[key]\n",
      "\u001B[0;31mKeyError\u001B[0m: 'keys'"
     ]
    }
   ],
   "execution_count": 1
  },
  {
   "metadata": {},
   "cell_type": "code",
   "outputs": [],
   "execution_count": null,
   "source": [
    "def on_close(_):\n",
    "    logging.info(\"Do custom stuff when connection is closed\")\n",
    "\n",
    "\n",
    "def websocket_api_message_handler(_, message):\n",
    "    logging.info(\"message from websocket API\")\n",
    "    logging.info(message)\n",
    "\n",
    "\n",
    "def websocket_stream_message_handler(_, message):\n",
    "    logging.info(\"message from websocket stream\")\n",
    "    logging.info(message)\n",
    "\n",
    "\n",
    "# make a connection to the websocket api\n",
    "ws_api_client = SpotWebsocketAPIClient(\n",
    "    stream_url=_api_stream_url,\n",
    "    api_key=api_key,\n",
    "    api_secret=api_secret,\n",
    "    on_message=websocket_api_message_handler,\n",
    "    on_close=on_close,\n",
    ")\n",
    "\n",
    "# make a connection to the websocket stream\n",
    "ws_stream_client = SpotWebsocketStreamClient(\n",
    "    stream_url=_stream_url,\n",
    "    on_message=websocket_stream_message_handler,\n",
    ")\n",
    "\n",
    "# spot api client to call all restful api endpoints\n",
    "spot_api_client = SpotAPIClient(api_key, api_secret, base_url=_base_url)\n",
    "\n",
    "# You can subscribe to the user data stream from websocket stream, it will broadcast all the events\n",
    "# related to your account, including order updates, balance updates, etc.\n",
    "# subscribe User Data stream` \n",
    "listenKey = spot_api_client.new_listen_key().get(\"listenKey\")\n",
    "ws_stream_client.user_data(listen_key=listenKey)\n"
   ],
   "id": "a0616b2f4e83de53"
  },
  {
   "metadata": {},
   "cell_type": "code",
   "outputs": [],
   "execution_count": null,
   "source": [
    "s = \"-\"*30\n",
    "logging.info(s)\n",
    "account_state = spot_api_client.account(recvWindow=50000)\n",
    "balances = [asset for asset in account_state['balances'] if (float(asset['free']) != 0 or float(asset['locked']) != 0)]\n",
    "logging.info(balances)\n",
    "logging.info(s)\n"
   ],
   "id": "bb32f27cbf86dd07"
  },
  {
   "metadata": {},
   "cell_type": "code",
   "outputs": [],
   "execution_count": null,
   "source": [
    "# You can create a new order from websocket api\n",
    "ws_api_client.new_order(\n",
    "    symbol=\"BNBUSDT\",\n",
    "    side=\"SELL\",\n",
    "    type=\"LIMIT\",\n",
    "    timeInForce=\"GTC\",\n",
    "    quantity=0.02,\n",
    "    # quoteOrderQty=11,\n",
    "    price=800,\n",
    "    newOrderRespType=\"RESULT\",\n",
    ")\n"
   ],
   "id": "c205528d8db6f3a9"
  },
  {
   "metadata": {},
   "cell_type": "code",
   "outputs": [],
   "execution_count": null,
   "source": [
    "logging.info(\"closing ws connection\")\n",
    "ws_api_client.stop()\n",
    "ws_stream_client.stop()"
   ],
   "id": "6a7dca4995d327f8"
  }
 ],
 "metadata": {
  "kernelspec": {
   "display_name": "Python 3",
   "language": "python",
   "name": "python3"
  },
  "language_info": {
   "codemirror_mode": {
    "name": "ipython",
    "version": 2
   },
   "file_extension": ".py",
   "mimetype": "text/x-python",
   "name": "python",
   "nbconvert_exporter": "python",
   "pygments_lexer": "ipython2",
   "version": "2.7.6"
  }
 },
 "nbformat": 4,
 "nbformat_minor": 5
}
