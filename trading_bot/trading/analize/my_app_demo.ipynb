{
 "cells": [
  {
   "cell_type": "code",
   "id": "initial_id",
   "metadata": {
    "collapsed": true,
    "ExecuteTime": {
     "end_time": "2025-01-25T04:36:28.058927Z",
     "start_time": "2025-01-25T04:36:27.720666Z"
    }
   },
   "source": [
    "from binance.websocket.spot.websocket_api import SpotWebsocketAPIClient\n",
    "from binance.websocket.spot.websocket_stream import SpotWebsocketStreamClient\n",
    "from binance.spot import Spot as SpotAPIClient\n",
    "\n",
    "from common.logger import logger as logging\n",
    "from trading.analize.utils.prepare_env import get_api_key\n",
    "\n",
    "# test = False\n",
    "test = True\n",
    "\n",
    "if test:\n",
    "    _api_stream_url = \"wss://ws-api.testnet.binance.vision/ws-api/v3\"\n",
    "    _stream_url = \"wss://stream.testnet.binance.vision\"\n",
    "    _base_url = \"https://testnet.binance.vision\"\n",
    "else:\n",
    "    _api_stream_url = \"wss://ws-api.binance.com/ws-api/v3\"\n",
    "    _stream_url = \"wss://stream.binance.com:9443\"\n",
    "    _base_url = \"https://api.binance.com\"\n",
    "\n",
    "api_key, api_secret = get_api_key(test=test)\n"
   ],
   "outputs": [],
   "execution_count": 1
  },
  {
   "metadata": {
    "ExecuteTime": {
     "end_time": "2025-01-25T04:36:32.009923Z",
     "start_time": "2025-01-25T04:36:29.521703Z"
    }
   },
   "cell_type": "code",
   "source": [
    "def on_close(_):\n",
    "    logging.info(\"Do custom stuff when connection is closed\")\n",
    "\n",
    "\n",
    "def websocket_api_message_handler(_, message):\n",
    "    logging.info(\"message from websocket API\")\n",
    "    logging.info(message)\n",
    "\n",
    "\n",
    "def websocket_stream_message_handler(_, message):\n",
    "    logging.info(\"message from websocket stream\")\n",
    "    logging.info(message)\n",
    "    print(\"message from websocket stream\")\n",
    "    print(message)\n",
    "\n",
    "\n",
    "# make a connection to the websocket api\n",
    "ws_api_client = SpotWebsocketAPIClient(\n",
    "    stream_url=_api_stream_url,\n",
    "    api_key=api_key,\n",
    "    api_secret=api_secret,\n",
    "    on_message=websocket_api_message_handler,\n",
    "    on_close=on_close,\n",
    ")\n",
    "\n",
    "# make a connection to the websocket stream\n",
    "ws_stream_client = SpotWebsocketStreamClient(\n",
    "    stream_url=_stream_url,\n",
    "    on_message=websocket_stream_message_handler,\n",
    ")\n",
    "\n",
    "# spot api client to call all restful api endpoints\n",
    "spot_api_client = SpotAPIClient(api_key, api_secret, base_url=_base_url)\n",
    "\n",
    "# You can subscribe to the user data stream from websocket stream, it will broadcast all the events\n",
    "# related to your account, including order updates, balance updates, etc.\n",
    "# subscribe User Data stream` \n",
    "listenKey = spot_api_client.new_listen_key().get(\"listenKey\")\n",
    "ws_stream_client.user_data(listen_key=listenKey)\n"
   ],
   "id": "a0616b2f4e83de53",
   "outputs": [],
   "execution_count": 2
  },
  {
   "metadata": {
    "ExecuteTime": {
     "end_time": "2025-01-25T04:40:03.511778Z",
     "start_time": "2025-01-25T04:40:03.185808Z"
    }
   },
   "cell_type": "code",
   "source": [
    "# Получение балансов\n",
    "s = \"-\"*30\n",
    "logging.info(s)\n",
    "\n",
    "account_state = spot_api_client.account(recvWindow=50000)\n",
    "balances = [asset for asset in account_state['balances'] if (float(asset['free']) != 0 or float(asset['locked']) != 0)]\n",
    "\n",
    "logging.info(balances)\n",
    "print(balances)\n",
    "logging.info(s)\n"
   ],
   "id": "bb32f27cbf86dd07",
   "outputs": [
    {
     "name": "stdout",
     "output_type": "stream",
     "text": [
      "[{'asset': 'ETH', 'free': '2.00000000', 'locked': '0.00000000'}, {'asset': 'BTC', 'free': '2.00000000', 'locked': '0.00000000'}, {'asset': 'LTC', 'free': '8.00000000', 'locked': '0.00000000'}, {'asset': 'BNB', 'free': '2.92000000', 'locked': '0.06000000'}, {'asset': 'USDT', 'free': '19816.00000000', 'locked': '0.00000000'}, {'asset': 'TRX', 'free': '3992.00000000', 'locked': '0.00000000'}, {'asset': 'XRP', 'free': '428.00000000', 'locked': '0.00000000'}, {'asset': 'NEO', 'free': '68.00000000', 'locked': '0.00000000'}, {'asset': 'QTUM', 'free': '328.00000000', 'locked': '0.00000000'}, {'asset': 'EOS', 'free': '1250.00000000', 'locked': '0.00000000'}, {'asset': 'SNT', 'free': '24072.00000000', 'locked': '0.00000000'}, {'asset': 'GAS', 'free': '200.00000000', 'locked': '0.00000000'}, {'asset': 'LRC', 'free': '5302.00000000', 'locked': '0.00000000'}, {'asset': 'ZRX', 'free': '2148.00000000', 'locked': '0.00000000'}, {'asset': 'KNC', 'free': '1808.00000000', 'locked': '0.00000000'}, {'asset': 'IOTA', 'free': '3106.00000000', 'locked': '0.00000000'}, {'asset': 'LINK', 'free': '48.00000000', 'locked': '0.00000000'}, {'asset': 'XVG', 'free': '36892.00000000', 'locked': '0.00000000'}, {'asset': 'MTL', 'free': '852.00000000', 'locked': '0.00000000'}, {'asset': 'ETC', 'free': '38.00000000', 'locked': '0.00000000'}, {'asset': 'ZEC', 'free': '18.00000000', 'locked': '0.00000000'}, {'asset': 'DASH', 'free': '26.00000000', 'locked': '0.00000000'}, {'asset': 'REQ', 'free': '8472.00000000', 'locked': '0.00000000'}, {'asset': 'VIB', 'free': '11584.00000000', 'locked': '0.00000000'}, {'asset': 'POWR', 'free': '3536.00000000', 'locked': '0.00000000'}, {'asset': 'ENJ', 'free': '4736.00000000', 'locked': '0.00000000'}, {'asset': 'STORJ', 'free': '2020.00000000', 'locked': '0.00000000'}, {'asset': 'KMD', 'free': '3412.00000000', 'locked': '0.00000000'}, {'asset': 'NULS', 'free': '2738.00000000', 'locked': '0.00000000'}, {'asset': 'BAT', 'free': '4176.00000000', 'locked': '0.00000000'}, {'asset': 'LSK', 'free': '1062.00000000', 'locked': '0.00000000'}, {'asset': 'MANA', 'free': '2028.00000000', 'locked': '0.00000000'}, {'asset': 'ADX', 'free': '4998.00000000', 'locked': '0.00000000'}, {'asset': 'ADA', 'free': '1018.00000000', 'locked': '0.00000000'}, {'asset': 'XLM', 'free': '2344.00000000', 'locked': '0.00000000'}, {'asset': 'ICX', 'free': '5412.00000000', 'locked': '0.00000000'}, {'asset': 'ELF', 'free': '2224.00000000', 'locked': '0.00000000'}, {'asset': 'RLC', 'free': '474.00000000', 'locked': '0.00000000'}, {'asset': 'PIVX', 'free': '3224.00000000', 'locked': '0.00000000'}, {'asset': 'STEEM', 'free': '2872.00000000', 'locked': '0.00000000'}, {'asset': 'ZIL', 'free': '36892.00000000', 'locked': '0.00000000'}, {'asset': 'ONT', 'free': '4296.00000000', 'locked': '0.00000000'}, {'asset': 'WAN', 'free': '4696.00000000', 'locked': '0.00000000'}, {'asset': 'SYS', 'free': '9132.00000000', 'locked': '0.00000000'}, {'asset': 'TUSD', 'free': '20000.00000000', 'locked': '0.00000000'}, {'asset': 'ZEN', 'free': '42.00000000', 'locked': '0.00000000'}, {'asset': 'THETA', 'free': '460.00000000', 'locked': '0.00000000'}, {'asset': 'IOTX', 'free': '26624.00000000', 'locked': '0.00000000'}, {'asset': 'DATA', 'free': '22048.00000000', 'locked': '0.00000000'}, {'asset': 'SC', 'free': '36892.00000000', 'locked': '0.00000000'}, {'asset': 'DENT', 'free': '36892.00000000', 'locked': '0.00000000'}, {'asset': 'ARDR', 'free': '10872.00000000', 'locked': '0.00000000'}, {'asset': 'HOT', 'free': '36892.00000000', 'locked': '0.00000000'}, {'asset': 'VET', 'free': '22056.00000000', 'locked': '0.00000000'}, {'asset': 'RVN', 'free': '36892.00000000', 'locked': '0.00000000'}, {'asset': 'USDC', 'free': '20000.00000000', 'locked': '0.00000000'}, {'asset': 'ONG', 'free': '3042.00000000', 'locked': '0.00000000'}, {'asset': 'FET', 'free': '748.00000000', 'locked': '0.00000000'}, {'asset': 'IOST', 'free': '36892.00000000', 'locked': '0.00000000'}, {'asset': 'CELR', 'free': '36892.00000000', 'locked': '0.00000000'}, {'asset': 'ATOM', 'free': '150.00000000', 'locked': '0.00000000'}, {'asset': 'PHB', 'free': '678.00000000', 'locked': '0.00000000'}, {'asset': 'TFUEL', 'free': '14930.00000000', 'locked': '0.00000000'}, {'asset': 'ONE', 'free': '36892.00000000', 'locked': '0.00000000'}, {'asset': 'FTM', 'free': '1500.00000000', 'locked': '0.00000000'}, {'asset': 'ALGO', 'free': '2756.00000000', 'locked': '0.00000000'}, {'asset': 'DOGE', 'free': '2880.00000000', 'locked': '0.00000000'}, {'asset': 'DUSK', 'free': '4704.00000000', 'locked': '0.00000000'}, {'asset': 'ANKR', 'free': '29092.00000000', 'locked': '0.00000000'}, {'asset': 'WIN', 'free': '36892.00000000', 'locked': '0.00000000'}, {'asset': 'COS', 'free': '36892.00000000', 'locked': '0.00000000'}, {'asset': 'FUN', 'free': '36892.00000000', 'locked': '0.00000000'}, {'asset': 'CVC', 'free': '5930.00000000', 'locked': '0.00000000'}, {'asset': 'CHZ', 'free': '12168.00000000', 'locked': '0.00000000'}, {'asset': 'BAND', 'free': '724.00000000', 'locked': '0.00000000'}, {'asset': 'XTZ', 'free': '784.00000000', 'locked': '0.00000000'}, {'asset': 'HBAR', 'free': '3580.00000000', 'locked': '0.00000000'}, {'asset': 'NKN', 'free': '11594.00000000', 'locked': '0.00000000'}, {'asset': 'STX', 'free': '648.00000000', 'locked': '0.00000000'}, {'asset': 'KAVA', 'free': '2074.00000000', 'locked': '0.00000000'}, {'asset': 'ARPA', 'free': '21668.00000000', 'locked': '0.00000000'}, {'asset': 'CTXC', 'free': '3656.00000000', 'locked': '0.00000000'}, {'asset': 'BCH', 'free': '2.00000000', 'locked': '0.00000000'}, {'asset': 'TROY', 'free': '36892.00000000', 'locked': '0.00000000'}, {'asset': 'VITE', 'free': '36892.00000000', 'locked': '0.00000000'}, {'asset': 'FTT', 'free': '350.00000000', 'locked': '0.00000000'}, {'asset': 'TRY', 'free': '36932.00000000', 'locked': '0.00000000'}, {'asset': 'EUR', 'free': '970.00000000', 'locked': '0.00000000'}, {'asset': 'OGN', 'free': '9250.00000000', 'locked': '0.00000000'}, {'asset': 'BNT', 'free': '1524.00000000', 'locked': '0.00000000'}, {'asset': 'LTO', 'free': '7504.00000000', 'locked': '0.00000000'}, {'asset': 'MBL', 'free': '36892.00000000', 'locked': '0.00000000'}, {'asset': 'COTI', 'free': '8832.00000000', 'locked': '0.00000000'}, {'asset': 'STPT', 'free': '14804.00000000', 'locked': '0.00000000'}, {'asset': 'ZAR', 'free': '36932.00000000', 'locked': '0.00000000'}, {'asset': 'SOL', 'free': '4.00000000', 'locked': '0.00000000'}, {'asset': 'CTSI', 'free': '6714.00000000', 'locked': '0.00000000'}, {'asset': 'HIVE', 'free': '1772.00000000', 'locked': '0.00000000'}, {'asset': 'CHR', 'free': '4576.00000000', 'locked': '0.00000000'}, {'asset': 'MDT', 'free': '18346.00000000', 'locked': '0.00000000'}, {'asset': 'STMX', 'free': '36892.00000000', 'locked': '0.00000000'}, {'asset': 'UAH', 'free': '36932.00000000', 'locked': '0.00000000'}, {'asset': 'COMP', 'free': '12.00000000', 'locked': '0.00000000'}, {'asset': 'SXP', 'free': '3088.00000000', 'locked': '0.00000000'}, {'asset': 'SNX', 'free': '534.00000000', 'locked': '0.00000000'}, {'asset': 'VTHO', 'free': '36892.00000000', 'locked': '0.00000000'}, {'asset': 'DGB', 'free': '36892.00000000', 'locked': '0.00000000'}, {'asset': 'MKR', 'free': '2.00000000', 'locked': '0.00000000'}, {'asset': 'RUNE', 'free': '242.00000000', 'locked': '0.00000000'}, {'asset': 'DCR', 'free': '68.00000000', 'locked': '0.00000000'}, {'asset': 'FIO', 'free': '26596.00000000', 'locked': '0.00000000'}, {'asset': 'AVA', 'free': '852.00000000', 'locked': '0.00000000'}, {'asset': 'YFI', 'free': '2.00000000', 'locked': '0.00000000'}, {'asset': 'BAL', 'free': '396.00000000', 'locked': '0.00000000'}, {'asset': 'DAI', 'free': '10000.00000000', 'locked': '0.00000000'}, {'asset': 'JST', 'free': '25192.00000000', 'locked': '0.00000000'}, {'asset': 'CRV', 'free': '1166.00000000', 'locked': '0.00000000'}, {'asset': 'SAND', 'free': '1682.00000000', 'locked': '0.00000000'}, {'asset': 'NMR', 'free': '68.00000000', 'locked': '0.00000000'}, {'asset': 'DOT', 'free': '146.00000000', 'locked': '0.00000000'}, {'asset': 'LUNA', 'free': '2248.00000000', 'locked': '0.00000000'}, {'asset': 'IDEX', 'free': '16388.00000000', 'locked': '0.00000000'}, {'asset': 'RSR', 'free': '36892.00000000', 'locked': '0.00000000'}, {'asset': 'PAXG', 'free': '2.00000000', 'locked': '0.00000000'}, {'asset': 'TRB', 'free': '16.00000000', 'locked': '0.00000000'}, {'asset': 'WBTC', 'free': '2.00000000', 'locked': '0.00000000'}, {'asset': 'SUSHI', 'free': '646.00000000', 'locked': '0.00000000'}, {'asset': 'KSM', 'free': '30.00000000', 'locked': '0.00000000'}, {'asset': 'EGLD', 'free': '30.00000000', 'locked': '0.00000000'}, {'asset': 'DIA', 'free': '1468.00000000', 'locked': '0.00000000'}, {'asset': 'UMA', 'free': '378.00000000', 'locked': '0.00000000'}, {'asset': 'BEL', 'free': '1824.00000000', 'locked': '0.00000000'}, {'asset': 'WING', 'free': '186.00000000', 'locked': '0.00000000'}, {'asset': 'UNI', 'free': '74.00000000', 'locked': '0.00000000'}, {'asset': 'OXT', 'free': '9024.00000000', 'locked': '0.00000000'}, {'asset': 'SUN', 'free': '36892.00000000', 'locked': '0.00000000'}, {'asset': 'AVAX', 'free': '26.00000000', 'locked': '0.00000000'}, {'asset': 'FLM', 'free': '14408.00000000', 'locked': '0.00000000'}, {'asset': 'SCRT', 'free': '2232.00000000', 'locked': '0.00000000'}, {'asset': 'CAKE', 'free': '414.00000000', 'locked': '0.00000000'}, {'asset': 'UTK', 'free': '12112.00000000', 'locked': '0.00000000'}, {'asset': 'XVS', 'free': '112.00000000', 'locked': '0.00000000'}, {'asset': 'ALPHA', 'free': '13104.00000000', 'locked': '0.00000000'}, {'asset': 'VIDT', 'free': '34616.00000000', 'locked': '0.00000000'}, {'asset': 'BRL', 'free': '194.00000000', 'locked': '0.00000000'}, {'asset': 'AAVE', 'free': '2.00000000', 'locked': '0.00000000'}, {'asset': 'NEAR', 'free': '194.00000000', 'locked': '0.00000000'}, {'asset': 'FIL', 'free': '190.00000000', 'locked': '0.00000000'}, {'asset': 'INJ', 'free': '44.00000000', 'locked': '0.00000000'}, {'asset': 'AUDIO', 'free': '6822.00000000', 'locked': '0.00000000'}, {'asset': 'CTK', 'free': '1298.00000000', 'locked': '0.00000000'}, {'asset': 'AXS', 'free': '162.00000000', 'locked': '0.00000000'}, {'asset': 'HARD', 'free': '7748.00000000', 'locked': '0.00000000'}, {'asset': 'SLP', 'free': '36892.00000000', 'locked': '0.00000000'}, {'asset': 'STRAX', 'free': '13004.00000000', 'locked': '0.00000000'}, {'asset': 'ROSE', 'free': '12590.00000000', 'locked': '0.00000000'}, {'asset': 'SKL', 'free': '22078.00000000', 'locked': '0.00000000'}, {'asset': 'GLM', 'free': '2718.00000000', 'locked': '0.00000000'}, {'asset': 'GRT', 'free': '4742.00000000', 'locked': '0.00000000'}, {'asset': 'JUV', 'free': '648.00000000', 'locked': '0.00000000'}, {'asset': 'PSG', 'free': '316.00000000', 'locked': '0.00000000'}, {'asset': '1INCH', 'free': '2630.00000000', 'locked': '0.00000000'}, {'asset': 'OG', 'free': '210.00000000', 'locked': '0.00000000'}, {'asset': 'ATM', 'free': '466.00000000', 'locked': '0.00000000'}, {'asset': 'ASR', 'free': '512.00000000', 'locked': '0.00000000'}, {'asset': 'CELO', 'free': '1554.00000000', 'locked': '0.00000000'}, {'asset': 'RIF', 'free': '10276.00000000', 'locked': '0.00000000'}, {'asset': 'TRU', 'free': '12570.00000000', 'locked': '0.00000000'}, {'asset': 'CKB', 'free': '36892.00000000', 'locked': '0.00000000'}, {'asset': 'TWT', 'free': '838.00000000', 'locked': '0.00000000'}, {'asset': 'FIRO', 'free': '428.00000000', 'locked': '0.00000000'}, {'asset': 'LIT', 'free': '1222.00000000', 'locked': '0.00000000'}, {'asset': 'SFP', 'free': '1476.00000000', 'locked': '0.00000000'}, {'asset': 'DODO', 'free': '6954.00000000', 'locked': '0.00000000'}, {'asset': 'ACM', 'free': '684.00000000', 'locked': '0.00000000'}, {'asset': 'AUCTION', 'free': '64.00000000', 'locked': '0.00000000'}, {'asset': 'PHA', 'free': '2876.00000000', 'locked': '0.00000000'}, {'asset': 'BADGER', 'free': '256.00000000', 'locked': '0.00000000'}, {'asset': 'FIS', 'free': '2374.00000000', 'locked': '0.00000000'}, {'asset': 'OM', 'free': '254.00000000', 'locked': '0.00000000'}, {'asset': 'POND', 'free': '36892.00000000', 'locked': '0.00000000'}, {'asset': 'DEGO', 'free': '368.00000000', 'locked': '0.00000000'}, {'asset': 'ALICE', 'free': '886.00000000', 'locked': '0.00000000'}, {'asset': 'LINA', 'free': '36892.00000000', 'locked': '0.00000000'}, {'asset': 'PERP', 'free': '1406.00000000', 'locked': '0.00000000'}, {'asset': 'SUPER', 'free': '768.00000000', 'locked': '0.00000000'}, {'asset': 'CFX', 'free': '6526.00000000', 'locked': '0.00000000'}, {'asset': 'TKO', 'free': '2318.00000000', 'locked': '0.00000000'}, {'asset': 'PUNDIX', 'free': '2016.00000000', 'locked': '0.00000000'}, {'asset': 'TLM', 'free': '36892.00000000', 'locked': '0.00000000'}, {'asset': 'BAR', 'free': '470.00000000', 'locked': '0.00000000'}, {'asset': 'FORTH', 'free': '184.00000000', 'locked': '0.00000000'}, {'asset': 'BAKE', 'free': '4218.00000000', 'locked': '0.00000000'}, {'asset': 'BURGER', 'free': '2444.00000000', 'locked': '0.00000000'}, {'asset': 'SHIB', 'free': '36892.00', 'locked': '0.00'}, {'asset': 'ICP', 'free': '92.00000000', 'locked': '0.00000000'}, {'asset': 'AR', 'free': '62.00000000', 'locked': '0.00000000'}, {'asset': 'MASK', 'free': '364.00000000', 'locked': '0.00000000'}, {'asset': 'LPT', 'free': '72.00000000', 'locked': '0.00000000'}, {'asset': 'ATA', 'free': '6204.00000000', 'locked': '0.00000000'}, {'asset': 'GTC', 'free': '1414.00000000', 'locked': '0.00000000'}, {'asset': 'ERN', 'free': '422.00000000', 'locked': '0.00000000'}, {'asset': 'MLN', 'free': '52.00000000', 'locked': '0.00000000'}, {'asset': 'DEXE', 'free': '62.00000000', 'locked': '0.00000000'}, {'asset': 'C98', 'free': '6318.00000000', 'locked': '0.00000000'}, {'asset': 'CLV', 'free': '16208.00000000', 'locked': '0.00000000'}, {'asset': 'QNT', 'free': '8.00000000', 'locked': '0.00000000'}, {'asset': 'FLOW', 'free': '1390.00000000', 'locked': '0.00000000'}, {'asset': 'MINA', 'free': '1740.00000000', 'locked': '0.00000000'}, {'asset': 'RAY', 'free': '192.00000000', 'locked': '0.00000000'}, {'asset': 'FARM', 'free': '20.00000000', 'locked': '0.00000000'}, {'asset': 'ALPACA', 'free': '6236.00000000', 'locked': '0.00000000'}, {'asset': 'QUICK', 'free': '24140.00000000', 'locked': '0.00000000'}, {'asset': 'MBOX', 'free': '5434.00000000', 'locked': '0.00000000'}, {'asset': 'GHST', 'free': '1054.00000000', 'locked': '0.00000000'}, {'asset': 'WAXP', 'free': '24276.00000000', 'locked': '0.00000000'}, {'asset': 'GNO', 'free': '2.00000000', 'locked': '0.00000000'}, {'asset': 'XEC', 'free': '36892.00', 'locked': '0.00'}, {'asset': 'DYDX', 'free': '736.00000000', 'locked': '0.00000000'}, {'asset': 'USDP', 'free': '996.00000000', 'locked': '0.00000000'}, {'asset': 'GALA', 'free': '27878.00000000', 'locked': '0.00000000'}, {'asset': 'ILV', 'free': '26.00000000', 'locked': '0.00000000'}, {'asset': 'YGG', 'free': '2212.00000000', 'locked': '0.00000000'}, {'asset': 'DF', 'free': '12582.00000000', 'locked': '0.00000000'}, {'asset': 'FIDA', 'free': '4264.00000000', 'locked': '0.00000000'}, {'asset': 'AGLD', 'free': '434.00000000', 'locked': '0.00000000'}, {'asset': 'RAD', 'free': '810.00000000', 'locked': '0.00000000'}, {'asset': 'BETA', 'free': '22748.00000000', 'locked': '0.00000000'}, {'asset': 'RARE', 'free': '9592.00000000', 'locked': '0.00000000'}, {'asset': 'SSV', 'free': '48.00000000', 'locked': '0.00000000'}, {'asset': 'LAZIO', 'free': '690.00000000', 'locked': '0.00000000'}, {'asset': 'CHESS', 'free': '5724.00000000', 'locked': '0.00000000'}, {'asset': 'BNX', 'free': '2674.00000000', 'locked': '0.00000000'}, {'asset': 'MOVR', 'free': '84.00000000', 'locked': '0.00000000'}, {'asset': 'CITY', 'free': '530.00000000', 'locked': '0.00000000'}, {'asset': 'ENS', 'free': '30.00000000', 'locked': '0.00000000'}, {'asset': 'QI', 'free': '36892.00000000', 'locked': '0.00000000'}, {'asset': 'PORTO', 'free': '682.00000000', 'locked': '0.00000000'}, {'asset': 'JASMY', 'free': '30320.00000000', 'locked': '0.00000000'}, {'asset': 'AMP', 'free': '36892.00000000', 'locked': '0.00000000'}, {'asset': 'PYR', 'free': '336.00000000', 'locked': '0.00000000'}, {'asset': 'ALCX', 'free': '52.00000000', 'locked': '0.00000000'}, {'asset': 'SANTOS', 'free': '316.00000000', 'locked': '0.00000000'}, {'asset': 'BICO', 'free': '3528.00000000', 'locked': '0.00000000'}, {'asset': 'FLUX', 'free': '1664.00000000', 'locked': '0.00000000'}, {'asset': 'FXS', 'free': '304.00000000', 'locked': '0.00000000'}, {'asset': 'VOXEL', 'free': '5854.00000000', 'locked': '0.00000000'}, {'asset': 'HIGH', 'free': '730.00000000', 'locked': '0.00000000'}, {'asset': 'CVX', 'free': '228.00000000', 'locked': '0.00000000'}, {'asset': 'PEOPLE', 'free': '24564.00000000', 'locked': '0.00000000'}, {'asset': 'SPELL', 'free': '36892.00000000', 'locked': '0.00000000'}, {'asset': 'JOE', 'free': '2808.00000000', 'locked': '0.00000000'}, {'asset': 'ACH', 'free': '36892.00000000', 'locked': '0.00000000'}, {'asset': 'IMX', 'free': '794.00000000', 'locked': '0.00000000'}, {'asset': 'GLMR', 'free': '4282.00000000', 'locked': '0.00000000'}, {'asset': 'LOKA', 'free': '5006.00000000', 'locked': '0.00000000'}, {'asset': 'API3', 'free': '660.00000000', 'locked': '0.00000000'}, {'asset': 'BTTC', 'free': '36892.0', 'locked': '0.0'}, {'asset': 'ACA', 'free': '11028.00000000', 'locked': '0.00000000'}, {'asset': 'XNO', 'free': '742.00000000', 'locked': '0.00000000'}, {'asset': 'WOO', 'free': '4778.00000000', 'locked': '0.00000000'}, {'asset': 'ALPINE', 'free': '778.00000000', 'locked': '0.00000000'}, {'asset': 'T', 'free': '36892.00000000', 'locked': '0.00000000'}, {'asset': 'ASTR', 'free': '16882.00000000', 'locked': '0.00000000'}, {'asset': 'GMT', 'free': '7032.00000000', 'locked': '0.00000000'}, {'asset': 'KDA', 'free': '1160.00000000', 'locked': '0.00000000'}, {'asset': 'APE', 'free': '872.00000000', 'locked': '0.00000000'}, {'asset': 'BSW', 'free': '14580.00000000', 'locked': '0.00000000'}, {'asset': 'BIFI', 'free': '2.00000000', 'locked': '0.00000000'}, {'asset': 'NEXO', 'free': '772.00000000', 'locked': '0.00000000'}, {'asset': 'REI', 'free': '18396.00000000', 'locked': '0.00000000'}, {'asset': 'LDO', 'free': '582.00000000', 'locked': '0.00000000'}, {'asset': 'OP', 'free': '548.00000000', 'locked': '0.00000000'}, {'asset': 'LEVER', 'free': '36892.00000000', 'locked': '0.00000000'}, {'asset': 'STG', 'free': '2378.00000000', 'locked': '0.00000000'}, {'asset': 'LUNC', 'free': '36892.00000000', 'locked': '0.00000000'}, {'asset': 'GMX', 'free': '38.00000000', 'locked': '0.00000000'}, {'asset': 'POLYX', 'free': '3826.00000000', 'locked': '0.00000000'}, {'asset': 'APT', 'free': '108.00000000', 'locked': '0.00000000'}, {'asset': 'PLN', 'free': '36932.00000000', 'locked': '0.00000000'}, {'asset': 'OSMO', 'free': '2026.00000000', 'locked': '0.00000000'}, {'asset': 'HFT', 'free': '5234.00000000', 'locked': '0.00000000'}, {'asset': 'HOOK', 'free': '2590.00000000', 'locked': '0.00000000'}, {'asset': 'MAGIC', 'free': '1962.00000000', 'locked': '0.00000000'}, {'asset': 'HIFI', 'free': '1814.00000000', 'locked': '0.00000000'}, {'asset': 'RPL', 'free': '92.00000000', 'locked': '0.00000000'}, {'asset': 'PROS', 'free': '2000.00000000', 'locked': '0.00000000'}, {'asset': 'RON', 'free': '36932.00000000', 'locked': '0.00000000'}, {'asset': 'GNS', 'free': '608.00000000', 'locked': '0.00000000'}, {'asset': 'SYN', 'free': '1654.00000000', 'locked': '0.00000000'}, {'asset': 'LQTY', 'free': '626.00000000', 'locked': '0.00000000'}, {'asset': 'AMB', 'free': '36892.00000000', 'locked': '0.00000000'}, {'asset': 'USTC', 'free': '36892.00000000', 'locked': '0.00000000'}, {'asset': 'PROM', 'free': '176.00000000', 'locked': '0.00000000'}, {'asset': 'QKC', 'free': '36892.00000000', 'locked': '0.00000000'}, {'asset': 'UFT', 'free': '3036.00000000', 'locked': '0.00000000'}, {'asset': 'ID', 'free': '2326.00000000', 'locked': '0.00000000'}, {'asset': 'ARB', 'free': '1242.00000000', 'locked': '0.00000000'}, {'asset': 'RDNT', 'free': '18052.00000000', 'locked': '0.00000000'}, {'asset': 'ARS', 'free': '36932.00000000', 'locked': '0.00000000'}, {'asset': 'EDU', 'free': '1936.00000000', 'locked': '0.00000000'}, {'asset': 'SUI', 'free': '218.00000000', 'locked': '0.00000000'}, {'asset': 'AERGO', 'free': '8122.00000000', 'locked': '0.00000000'}, {'asset': 'PEPE', 'free': '36892.00', 'locked': '0.00'}, {'asset': 'FLOKI', 'free': '36892.00', 'locked': '0.00'}, {'asset': 'WBETH', 'free': '2.00000000', 'locked': '0.00000000'}, {'asset': 'AST', 'free': '9998.00000000', 'locked': '0.00000000'}, {'asset': 'COMBO', 'free': '2458.00000000', 'locked': '0.00000000'}, {'asset': 'MAV', 'free': '5230.00000000', 'locked': '0.00000000'}, {'asset': 'PENDLE', 'free': '230.00000000', 'locked': '0.00000000'}, {'asset': 'ARKM', 'free': '726.00000000', 'locked': '0.00000000'}, {'asset': 'WLD', 'free': '446.00000000', 'locked': '0.00000000'}, {'asset': 'FDUSD', 'free': '20000.00000000', 'locked': '0.00000000'}, {'asset': 'SEI', 'free': '2526.00000000', 'locked': '0.00000000'}, {'asset': 'CYBER', 'free': '320.00000000', 'locked': '0.00000000'}, {'asset': 'ARK', 'free': '1654.00000000', 'locked': '0.00000000'}, {'asset': 'CREAM', 'free': '78.00000000', 'locked': '0.00000000'}, {'asset': 'IQ', 'free': '36892.00000000', 'locked': '0.00000000'}, {'asset': 'NTRN', 'free': '2884.00000000', 'locked': '0.00000000'}, {'asset': 'TIA', 'free': '214.00000000', 'locked': '0.00000000'}, {'asset': 'MEME', 'free': '36892.00000000', 'locked': '0.00000000'}, {'asset': 'ORDI', 'free': '40.00000000', 'locked': '0.00000000'}, {'asset': 'BEAMX', 'free': '36892.00000000', 'locked': '0.00000000'}, {'asset': 'VIC', 'free': '2598.00000000', 'locked': '0.00000000'}, {'asset': 'BLUR', 'free': '4250.00000000', 'locked': '0.00000000'}, {'asset': 'VANRY', 'free': '9308.00000000', 'locked': '0.00000000'}, {'asset': 'AEUR', 'free': '1002.00000000', 'locked': '0.00000000'}, {'asset': 'JTO', 'free': '336.00000000', 'locked': '0.00000000'}, {'asset': '1000SATS', 'free': '36892.00', 'locked': '0.00'}, {'asset': 'BONK', 'free': '36892.00', 'locked': '0.00'}, {'asset': 'ACE', 'free': '538.00000000', 'locked': '0.00000000'}, {'asset': 'NFP', 'free': '3758.00000000', 'locked': '0.00000000'}, {'asset': 'AI', 'free': '1460.00000000', 'locked': '0.00000000'}, {'asset': 'XAI', 'free': '4530.00000000', 'locked': '0.00000000'}, {'asset': 'MANTA', 'free': '1256.00000000', 'locked': '0.00000000'}, {'asset': 'ALT', 'free': '9178.00000000', 'locked': '0.00000000'}, {'asset': 'JUP', 'free': '1210.00000000', 'locked': '0.00000000'}, {'asset': 'PYTH', 'free': '2954.00000000', 'locked': '0.00000000'}, {'asset': 'RONIN', 'free': '548.00000000', 'locked': '0.00000000'}, {'asset': 'DYM', 'free': '792.00000000', 'locked': '0.00000000'}, {'asset': 'PIXEL', 'free': '6700.00000000', 'locked': '0.00000000'}, {'asset': 'STRK', 'free': '2232.00000000', 'locked': '0.00000000'}, {'asset': 'PORTAL', 'free': '3414.00000000', 'locked': '0.00000000'}, {'asset': 'PDA', 'free': '23332.00000000', 'locked': '0.00000000'}, {'asset': 'AXL', 'free': '1546.00000000', 'locked': '0.00000000'}, {'asset': 'WIF', 'free': '542.00000000', 'locked': '0.00000000'}, {'asset': 'METIS', 'free': '24.00000000', 'locked': '0.00000000'}, {'asset': 'JPY', 'free': '36932.00000000', 'locked': '0.00000000'}, {'asset': 'AEVO', 'free': '2934.00000000', 'locked': '0.00000000'}, {'asset': 'BOME', 'free': '36892.00', 'locked': '0.00'}, {'asset': 'ETHFI', 'free': '506.00000000', 'locked': '0.00000000'}, {'asset': 'ENA', 'free': '1040.00000000', 'locked': '0.00000000'}, {'asset': 'W', 'free': '3814.00000000', 'locked': '0.00000000'}, {'asset': 'TNSR', 'free': '2432.00000000', 'locked': '0.00000000'}, {'asset': 'SAGA', 'free': '764.00000000', 'locked': '0.00000000'}, {'asset': 'MXN', 'free': '36932.00000000', 'locked': '0.00000000'}, {'asset': 'CZK', 'free': '36932.00000000', 'locked': '0.00000000'}, {'asset': 'TAO', 'free': '2.00000000', 'locked': '0.00000000'}, {'asset': 'OMNI', 'free': '114.00000000', 'locked': '0.00000000'}, {'asset': 'REZ', 'free': '30044.00000000', 'locked': '0.00000000'}, {'asset': 'BB', 'free': '2692.00000000', 'locked': '0.00000000'}, {'asset': 'NOT', 'free': '36892.00', 'locked': '0.00'}, {'asset': 'COP', 'free': '36932.00000000', 'locked': '0.00000000'}, {'asset': 'IO', 'free': '310.00000000', 'locked': '0.00000000'}, {'asset': 'ZK', 'free': '5236.00000000', 'locked': '0.00000000'}, {'asset': 'LISTA', 'free': '2636.00000000', 'locked': '0.00000000'}, {'asset': 'ZRO', 'free': '202.00000000', 'locked': '0.00000000'}, {'asset': 'G', 'free': '31804.00000000', 'locked': '0.00000000'}, {'asset': 'BANANA', 'free': '24.00000000', 'locked': '0.00000000'}, {'asset': 'RENDER', 'free': '128.00000000', 'locked': '0.00000000'}, {'asset': 'TON', 'free': '190.00000000', 'locked': '0.00000000'}, {'asset': 'DOGS', 'free': '36892.00', 'locked': '0.00'}, {'asset': 'EURI', 'free': '970.00000000', 'locked': '0.00000000'}, {'asset': 'SLF', 'free': '3396.00000000', 'locked': '0.00000000'}, {'asset': 'POL', 'free': '2162.00000000', 'locked': '0.00000000'}, {'asset': 'NEIRO', 'free': '36892.00', 'locked': '0.00'}, {'asset': 'TURBO', 'free': '36892.00000000', 'locked': '0.00000000'}, {'asset': '1MBABYDOGE', 'free': '36892.00', 'locked': '0.00'}, {'asset': 'CATI', 'free': '3210.00000000', 'locked': '0.00000000'}, {'asset': 'HMSTR', 'free': '36892.00', 'locked': '0.00'}, {'asset': 'EIGEN', 'free': '294.00000000', 'locked': '0.00000000'}, {'asset': 'BNSOL', 'free': '4.00000000', 'locked': '0.00000000'}, {'asset': 'SCR', 'free': '1156.00000000', 'locked': '0.00000000'}, {'asset': 'LUMIA', 'free': '842.00000000', 'locked': '0.00000000'}, {'asset': 'KAIA', 'free': '5000.00000000', 'locked': '0.00000000'}, {'asset': 'COW', 'free': '1308.00000000', 'locked': '0.00000000'}, {'asset': 'CETUS', 'free': '2936.00000000', 'locked': '0.00000000'}, {'asset': 'PNUT', 'free': '1732.00000000', 'locked': '0.00000000'}, {'asset': 'ACT', 'free': '3156.00000000', 'locked': '0.00000000'}, {'asset': 'USUAL', 'free': '1356.00000000', 'locked': '0.00000000'}, {'asset': 'THE', 'free': '776.00000000', 'locked': '0.00000000'}, {'asset': 'ACX', 'free': '2048.00000000', 'locked': '0.00000000'}, {'asset': 'ORCA', 'free': '274.00000000', 'locked': '0.00000000'}, {'asset': 'MOVE', 'free': '1068.00000000', 'locked': '0.00000000'}, {'asset': 'ME', 'free': '350.00000000', 'locked': '0.00000000'}, {'asset': 'VELODROME', 'free': '6482.00000000', 'locked': '0.00000000'}, {'asset': 'VANA', 'free': '68.00000000', 'locked': '0.00000000'}, {'asset': '1000CAT', 'free': '35434.00000000', 'locked': '0.00000000'}, {'asset': 'PENGU', 'free': '27986.00000000', 'locked': '0.00000000'}, {'asset': 'BIO', 'free': '1692.00000000', 'locked': '0.00000000'}]\n"
     ]
    }
   ],
   "execution_count": 7
  },
  {
   "metadata": {
    "ExecuteTime": {
     "end_time": "2025-01-25T04:38:09.573257Z",
     "start_time": "2025-01-25T04:38:09.567449Z"
    }
   },
   "cell_type": "code",
   "source": [
    "# You can create a new order from websocket api\n",
    "symbol = \"BNBUSDT\"\n",
    "new_order = ws_api_client.new_order(\n",
    "    symbol=symbol,\n",
    "    side=\"SELL\",\n",
    "    type=\"LIMIT\",\n",
    "    timeInForce=\"GTC\",\n",
    "    quantity=0.02,\n",
    "    # quoteOrderQty=11,\n",
    "    price=780,\n",
    "    newOrderRespType=\"RESULT\",\n",
    ")\n"
   ],
   "id": "c205528d8db6f3a9",
   "outputs": [],
   "execution_count": 6
  },
  {
   "metadata": {},
   "cell_type": "code",
   "outputs": [],
   "execution_count": null,
   "source": "",
   "id": "a2d8aab18c4eca92"
  },
  {
   "metadata": {},
   "cell_type": "code",
   "outputs": [],
   "execution_count": null,
   "source": [
    "logging.info(\"closing ws connection\")\n",
    "ws_api_client.stop()\n",
    "ws_stream_client.stop()"
   ],
   "id": "6a7dca4995d327f8"
  }
 ],
 "metadata": {
  "kernelspec": {
   "display_name": "Python 3",
   "language": "python",
   "name": "python3"
  },
  "language_info": {
   "codemirror_mode": {
    "name": "ipython",
    "version": 2
   },
   "file_extension": ".py",
   "mimetype": "text/x-python",
   "name": "python",
   "nbconvert_exporter": "python",
   "pygments_lexer": "ipython2",
   "version": "2.7.6"
  }
 },
 "nbformat": 4,
 "nbformat_minor": 5
}
